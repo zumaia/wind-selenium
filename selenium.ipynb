{
 "cells": [
  {
   "cell_type": "markdown",
   "metadata": {},
   "source": [
    "# Web Scraping using Selenium and BeautifulSoup"
   ]
  },
  {
   "cell_type": "markdown",
   "metadata": {},
   "source": [
    "Scrapy framework to solve lots of common web scraping problems. \n",
    "\n",
    "Today we are going to take a look at Selenium and BeautifulSoup (with Python ❤️ ) with a step by step tutorial.\n",
    "\n",
    "# It's time to use Selenium\n",
    "\n",
    "Selenium refers to a number of different open-source projects used for browser automation. It supports bindings for all major programming languages, including our favorite language: Python.\n",
    "\n",
    "The Selenium API uses the WebDriver protocol to control a web browser, like Chrome, Firefox or Safari. The browser can run either localy or remotely.\n",
    "\n",
    "At the beginning of the project (almost 20 years ago!) it was mostly used for cross-browser end-to-end testing (acceptance tests).\n",
    "\n",
    "Now it is still used for testing, but also as a general browser automation platform and of course, web scraping!\n",
    "\n",
    "Selenium is really useful when you have to perform action on a website such as:\n",
    "\n",
    "    * clicking on buttons\n",
    "    * filling forms\n",
    "    * scrolling\n",
    "    * taking a screenshot\n",
    "    \n",
    "It is also very useful in order to execute Javascript code. Let's say that you want to scrape a Single Page application, and that you don't find an easy way to directly call the underlying APIs, then Selenium might be what you need.\n",
    "\n",
    "## Installation\n",
    "\n",
    "We will use Chrome in our example, so make sure you have it installed on your local machine:\n",
    "\n",
    "    * Chrome download page\n",
    "    * Chrome driver binary\n",
    "    * selenium package\n",
    "\n",
    "In order to install the Selenium package, as always, I recommend that you create a virtual environnement, using virtualenv for example, and then:"
   ]
  },
  {
   "cell_type": "code",
   "execution_count": 28,
   "metadata": {
    "ExecuteTime": {
     "end_time": "2020-08-18T08:28:19.345963Z",
     "start_time": "2020-08-18T08:28:19.342827Z"
    }
   },
   "outputs": [],
   "source": [
    "# !pip install selenium"
   ]
  },
  {
   "cell_type": "markdown",
   "metadata": {},
   "source": [
    "# Quickstart\n",
    "\n",
    "Once you have downloaded both Chrome and Chromedriver, and installed the selenium package you should be ready to start the browser:"
   ]
  },
  {
   "cell_type": "code",
   "execution_count": 29,
   "metadata": {
    "ExecuteTime": {
     "end_time": "2020-08-18T08:28:21.794643Z",
     "start_time": "2020-08-18T08:28:19.353993Z"
    }
   },
   "outputs": [],
   "source": [
    "from selenium import webdriver\n",
    "\n",
    "DRIVER_PATH = './chromedriver' #the path where you have \"chromedriver\" file.\n",
    "driver = webdriver.Chrome(executable_path=DRIVER_PATH)\n",
    "driver.get('https://google.com')"
   ]
  },
  {
   "cell_type": "markdown",
   "metadata": {},
   "source": [
    "This will launch Chrome in headfull mode (like a regular Chrome, which is controlled by your Python code). You should see a message stating that the browser is controlled by an automated software.\n",
    "\n",
    "In order to run Chrome in headless mode (without any graphical user interface), to run it on a server for example:"
   ]
  },
  {
   "cell_type": "code",
   "execution_count": 30,
   "metadata": {
    "ExecuteTime": {
     "end_time": "2020-08-18T08:28:24.162551Z",
     "start_time": "2020-08-18T08:28:21.798371Z"
    }
   },
   "outputs": [],
   "source": [
    "from selenium import webdriver\n",
    "from selenium.webdriver.chrome.options import Options\n",
    "\n",
    "options = Options()\n",
    "options.headless = True\n",
    "options.add_argument(\"--window-size=1920,1200\")\n",
    "\n",
    "driver = webdriver.Chrome(options=options, executable_path=DRIVER_PATH)\n",
    "driver.get(\"https://www.thewindpower.net/country_media_es_3_espana.php\")\n",
    "#print(driver.page_source)\n",
    "driver.quit()"
   ]
  },
  {
   "cell_type": "markdown",
   "metadata": {},
   "source": [
    "The driver.page_source will return the full page HTML code.\n",
    "\n",
    "Here are two other interesting webdriver properties:\n",
    "\n",
    "    * driver.title to get the page's title\n",
    "    * driver.current_url to get the current url (can be useful when there are redirections on the website and that you need the final URL)\n",
    "\n",
    "## Locating elements\n",
    "\n",
    "Locating data on a website is one of the main use cases for Selenium, either for a test suite (making sure that a specific element is present/absent on the page) or to extract the data and save it for further analysis (web scraping).\n",
    "\n",
    "There are many methods available in the Selenium API to select elements on the page. You can use:\n",
    "\n",
    "    * Tag name\n",
    "    * Class name\n",
    "    * IDs\n",
    "    * XPath\n",
    "    * CSS selectors\n",
    "\n",
    "\n",
    "As usual, the easiest way to locate an element is to open your Chrome dev tools and inspect the element that you need. A cool shortcut for this is to highlight the element you want with your mouse, and then Ctrl + Shift + C or on macOS cmd + shift + c instead of having to right click + inspect each time:"
   ]
  },
  {
   "cell_type": "markdown",
   "metadata": {},
   "source": [
    "## Let´s work\n",
    "\n",
    "In this tutorial we will build a web scraping program that will scrape a Github user profile and get the Repository Names and the Languages for the Pinned Repositories."
   ]
  },
  {
   "cell_type": "markdown",
   "metadata": {
    "ExecuteTime": {
     "end_time": "2020-08-12T16:12:37.911482Z",
     "start_time": "2020-08-12T16:12:37.847172Z"
    }
   },
   "source": [
    "## What will we require?\n",
    "For this project we will use Python3.x. \n",
    "\n",
    "We will also use the following packages and driver:\n",
    "\n",
    "    * selenium package — used to automate web browser interaction from Python\n",
    "    * ChromeDriver — provides a platform to launch and perform tasks in specified browser.\n",
    "    * Virtualenv — to create an isolated Python environment for our project.\n",
    "    * Extras: Selenium-Python ReadTheDocs Resource.\n",
    "\n",
    "## Project SetUp\n",
    "Create a new project folder. Within that folder create an setup.py file. In this file, type in our dependency selenium.\n"
   ]
  },
  {
   "cell_type": "code",
   "execution_count": 31,
   "metadata": {
    "ExecuteTime": {
     "end_time": "2020-08-18T08:28:24.282013Z",
     "start_time": "2020-08-18T08:28:24.164609Z"
    }
   },
   "outputs": [],
   "source": [
    "# Create the file using \"shell-terminal\"\n",
    "! touch setup.py"
   ]
  },
  {
   "cell_type": "code",
   "execution_count": 32,
   "metadata": {
    "ExecuteTime": {
     "end_time": "2020-08-18T08:28:24.405604Z",
     "start_time": "2020-08-18T08:28:24.284880Z"
    }
   },
   "outputs": [],
   "source": [
    "# Type the dependency selenium\n",
    "! echo \"selenium\" > setup.py"
   ]
  },
  {
   "cell_type": "markdown",
   "metadata": {},
   "source": [
    "Open up your command line & create a virtual environment using the basic command:"
   ]
  },
  {
   "cell_type": "code",
   "execution_count": 33,
   "metadata": {
    "ExecuteTime": {
     "end_time": "2020-08-18T08:28:24.414743Z",
     "start_time": "2020-08-18T08:28:24.411029Z"
    }
   },
   "outputs": [],
   "source": [
    "#! pip install virtualenv"
   ]
  },
  {
   "cell_type": "code",
   "execution_count": 34,
   "metadata": {
    "ExecuteTime": {
     "end_time": "2020-08-18T08:28:24.973387Z",
     "start_time": "2020-08-18T08:28:24.421141Z"
    }
   },
   "outputs": [
    {
     "name": "stdout",
     "output_type": "stream",
     "text": [
      "created virtual environment CPython3.7.6.final.0-64 in 292ms\n",
      "  creator CPython3Posix(dest=/home/oscar/Documentos/Medium/Selenium/webscraping_example, clear=False, global=False)\n",
      "  seeder FromAppData(download=False, pip=bundle, setuptools=bundle, wheel=bundle, via=copy, app_data_dir=/home/oscar/.local/share/virtualenv)\n",
      "    added seed packages: pip==20.2.1, setuptools==49.2.1, wheel==0.34.2\n",
      "  activators BashActivator,CShellActivator,FishActivator,PowerShellActivator,PythonActivator,XonshActivator\n"
     ]
    }
   ],
   "source": [
    "# Create virtualenv\n",
    "\n",
    "! virtualenv webscraping_example"
   ]
  },
  {
   "cell_type": "markdown",
   "metadata": {},
   "source": [
    "Activate virtualenv\n",
    "\n",
    "![](activate.png)"
   ]
  },
  {
   "cell_type": "markdown",
   "metadata": {},
   "source": [
    "Next, install the dependency into your virtualenv by running the following command in the terminal:"
   ]
  },
  {
   "cell_type": "code",
   "execution_count": 35,
   "metadata": {
    "ExecuteTime": {
     "end_time": "2020-08-18T08:28:24.979117Z",
     "start_time": "2020-08-18T08:28:24.976268Z"
    }
   },
   "outputs": [],
   "source": [
    "#! pip install -r setup.py"
   ]
  },
  {
   "cell_type": "markdown",
   "metadata": {},
   "source": [
    "# Import Required Modules\n",
    "Within the folder we created earlier, create a webscraping_example.py file and include the following code snippets."
   ]
  },
  {
   "cell_type": "code",
   "execution_count": 36,
   "metadata": {
    "ExecuteTime": {
     "end_time": "2020-08-18T08:28:25.155724Z",
     "start_time": "2020-08-18T08:28:24.981971Z"
    }
   },
   "outputs": [],
   "source": [
    "# Create the file using \"shell-terminal\"\n",
    "\n",
    "! touch webscraping_example/webscraping_example.py"
   ]
  },
  {
   "cell_type": "code",
   "execution_count": 37,
   "metadata": {
    "ExecuteTime": {
     "end_time": "2020-08-18T08:28:25.160577Z",
     "start_time": "2020-08-18T08:28:25.158021Z"
    }
   },
   "outputs": [],
   "source": [
    "# Use shell-terminal\n",
    "#! vim webscraping_example/webscraping_example.py\n"
   ]
  },
  {
   "cell_type": "markdown",
   "metadata": {},
   "source": [
    "![](vim.png)"
   ]
  },
  {
   "cell_type": "markdown",
   "metadata": {},
   "source": [
    "    1st import: Allows you to launch/initialise a browser.\n",
    "    2nd import: Allows you to search for things using specific parameters.\n",
    "    3rd import: Allows you to wait for a page to load.\n",
    "    4th import: Specify what you are looking for on a specific page in order to determine that the webpage has loaded.\n",
    "    5th import: Handling a timeout situation.\n",
    "  "
   ]
  },
  {
   "cell_type": "code",
   "execution_count": 38,
   "metadata": {
    "ExecuteTime": {
     "end_time": "2020-08-18T08:28:25.170053Z",
     "start_time": "2020-08-18T08:28:25.162504Z"
    }
   },
   "outputs": [],
   "source": [
    "from selenium import webdriver \n",
    "from selenium.webdriver.chrome.options import Options\n",
    "from selenium.webdriver.common.by import By \n",
    "from selenium.webdriver.support.ui import WebDriverWait \n",
    "from selenium.webdriver.support import expected_conditions as EC \n",
    "from selenium.common.exceptions import TimeoutException"
   ]
  },
  {
   "cell_type": "markdown",
   "metadata": {},
   "source": [
    "  \n",
    "## Create new instance of Chrome in Incognito mode\n",
    "First we start by adding the incognito argument to our webdriver."
   ]
  },
  {
   "cell_type": "code",
   "execution_count": 39,
   "metadata": {
    "ExecuteTime": {
     "end_time": "2020-08-18T08:28:25.176015Z",
     "start_time": "2020-08-18T08:28:25.172327Z"
    }
   },
   "outputs": [],
   "source": [
    "options = Options()\n",
    "options.add_argument(\"--incognito\")\n"
   ]
  },
  {
   "cell_type": "markdown",
   "metadata": {},
   "source": [
    "Next we create a new instance of Chrome."
   ]
  },
  {
   "cell_type": "code",
   "execution_count": 40,
   "metadata": {
    "ExecuteTime": {
     "end_time": "2020-08-18T08:28:26.716332Z",
     "start_time": "2020-08-18T08:28:25.177972Z"
    }
   },
   "outputs": [],
   "source": [
    "DRIVER_PATH = './chromedriver'\n",
    "browser = webdriver.Chrome(options=options, executable_path=DRIVER_PATH)\n"
   ]
  },
  {
   "cell_type": "markdown",
   "metadata": {},
   "source": [
    "One thing to note is that the executable_path is the path that points to where you downloaded and saved your ChromeDriver.\n",
    "\n",
    "## Make The Request\n",
    "\n",
    "When making the request we need to consider the following:\n",
    "\n",
    "    * Pass in the desired website url.\n",
    "    * Implement a Try/Except for handling a timeout situation should it occur.\n",
    "    \n",
    "In our case we are using \"thewindpower.net\" as the desired website url:"
   ]
  },
  {
   "cell_type": "code",
   "execution_count": 41,
   "metadata": {
    "ExecuteTime": {
     "end_time": "2020-08-18T08:28:27.571385Z",
     "start_time": "2020-08-18T08:28:26.719084Z"
    }
   },
   "outputs": [],
   "source": [
    "browser.get(\"https://www.thewindpower.net/country_media_es_3_espana.php\")\n"
   ]
  },
  {
   "cell_type": "markdown",
   "metadata": {},
   "source": [
    "## Locating elements & finding the target one by page inspection:"
   ]
  },
  {
   "cell_type": "code",
   "execution_count": 42,
   "metadata": {
    "ExecuteTime": {
     "end_time": "2020-08-18T08:28:27.834638Z",
     "start_time": "2020-08-18T08:28:27.573988Z"
    }
   },
   "outputs": [
    {
     "data": {
      "text/plain": [
       "1232"
      ]
     },
     "execution_count": 42,
     "metadata": {},
     "output_type": "execute_result"
    }
   ],
   "source": [
    "items = len(browser.find_elements_by_class_name(\"lien_standard\"))\n",
    "items "
   ]
  },
  {
   "cell_type": "code",
   "execution_count": 43,
   "metadata": {
    "ExecuteTime": {
     "end_time": "2020-08-18T08:28:28.133151Z",
     "start_time": "2020-08-18T08:28:27.850352Z"
    }
   },
   "outputs": [],
   "source": [
    "elems = browser.find_elements_by_class_name(\"lien_standard\")"
   ]
  },
  {
   "cell_type": "markdown",
   "metadata": {},
   "source": [
    "Get URL"
   ]
  },
  {
   "cell_type": "code",
   "execution_count": 44,
   "metadata": {
    "ExecuteTime": {
     "end_time": "2020-08-18T08:28:38.076317Z",
     "start_time": "2020-08-18T08:28:28.135863Z"
    }
   },
   "outputs": [],
   "source": [
    "links = [elem.get_attribute('href') for elem in elems]"
   ]
  },
  {
   "cell_type": "markdown",
   "metadata": {},
   "source": [
    "Show the first lines"
   ]
  },
  {
   "cell_type": "code",
   "execution_count": 45,
   "metadata": {
    "ExecuteTime": {
     "end_time": "2020-08-18T08:28:38.083558Z",
     "start_time": "2020-08-18T08:28:38.078310Z"
    }
   },
   "outputs": [
    {
     "data": {
      "text/plain": [
       "['https://www.thewindpower.net/windfarm_es_4418_cortijo-de-guerra-ii.php',\n",
       " 'https://www.thewindpower.net/windfarm_es_695_es-mila.php',\n",
       " 'https://www.thewindpower.net/windfarm_es_5281_la-castellana-(spain).php',\n",
       " 'https://www.thewindpower.net/windfarm_es_7024_valdeperondo.php',\n",
       " 'http://zigwen.free.fr/']"
      ]
     },
     "execution_count": 45,
     "metadata": {},
     "output_type": "execute_result"
    }
   ],
   "source": [
    "links[:5]"
   ]
  },
  {
   "cell_type": "code",
   "execution_count": 46,
   "metadata": {
    "ExecuteTime": {
     "end_time": "2020-08-18T08:28:38.090665Z",
     "start_time": "2020-08-18T08:28:38.085903Z"
    }
   },
   "outputs": [],
   "source": [
    "# initializing start Prefix \n",
    "start_letter = 'https://'\n",
    "result = [x for x in links if x.startswith(start_letter)] "
   ]
  },
  {
   "cell_type": "code",
   "execution_count": 47,
   "metadata": {
    "ExecuteTime": {
     "end_time": "2020-08-18T08:28:38.098322Z",
     "start_time": "2020-08-18T08:28:38.092934Z"
    }
   },
   "outputs": [
    {
     "data": {
      "text/plain": [
       "['https://www.thewindpower.net/windfarm_es_4418_cortijo-de-guerra-ii.php',\n",
       " 'https://www.thewindpower.net/windfarm_es_695_es-mila.php',\n",
       " 'https://www.thewindpower.net/windfarm_es_5281_la-castellana-(spain).php',\n",
       " 'https://www.thewindpower.net/windfarm_es_7024_valdeperondo.php',\n",
       " 'https://www.thewindpower.net/windfarm_es_1922_a-capelada-i.php',\n",
       " 'https://www.thewindpower.net/windfarm_es_1919_a-capelada-ii.php',\n",
       " 'https://www.thewindpower.net/windfarm_es_10582_abuela-santa-ana.php',\n",
       " 'https://www.thewindpower.net/windfarm_es_19392_abuela-santa-ana-modificacion.php',\n",
       " 'https://www.thewindpower.net/windfarm_es_1920_adrano.php',\n",
       " 'https://www.thewindpower.net/windfarm_es_13465_aeropuerto-la-palma.php',\n",
       " 'https://www.thewindpower.net/windfarm_es_3865_aguatona.php',\n",
       " 'https://www.thewindpower.net/windfarm_es_2077_aibar.php',\n",
       " 'https://www.thewindpower.net/windfarm_es_9722_aibar.php',\n",
       " 'https://www.thewindpower.net/windfarm_es_2062_aizkibel.php',\n",
       " 'https://www.thewindpower.net/windfarm_es_2063_aizkibel.php',\n",
       " 'https://www.thewindpower.net/windfarm_es_21500_alaiz.php',\n",
       " 'https://www.thewindpower.net/windfarm_es_2083_alaiz.php',\n",
       " 'https://www.thewindpower.net/windfarm_es_2084_alaiz.php',\n",
       " 'https://www.thewindpower.net/windfarm_es_2105_alcarama-i.php',\n",
       " 'https://www.thewindpower.net/windfarm_es_2106_alcarama-i.php']"
      ]
     },
     "execution_count": 47,
     "metadata": {},
     "output_type": "execute_result"
    }
   ],
   "source": [
    "result[0:20]"
   ]
  },
  {
   "cell_type": "code",
   "execution_count": 48,
   "metadata": {
    "ExecuteTime": {
     "end_time": "2020-08-18T08:28:38.105169Z",
     "start_time": "2020-08-18T08:28:38.100685Z"
    }
   },
   "outputs": [
    {
     "data": {
      "text/plain": [
       "603"
      ]
     },
     "execution_count": 48,
     "metadata": {},
     "output_type": "execute_result"
    }
   ],
   "source": [
    "len(result)"
   ]
  },
  {
   "cell_type": "markdown",
   "metadata": {
    "ExecuteTime": {
     "end_time": "2020-08-16T08:22:28.818273Z",
     "start_time": "2020-08-16T08:22:28.813890Z"
    }
   },
   "source": [
    "# It's time to use BeautifulSoup"
   ]
  },
  {
   "cell_type": "markdown",
   "metadata": {},
   "source": [
    "Once we have obtained the URLs where the data is stored, we will use the BeautifulSoup library.\n",
    "\n",
    "## Load the libraries"
   ]
  },
  {
   "cell_type": "code",
   "execution_count": 49,
   "metadata": {
    "ExecuteTime": {
     "end_time": "2020-08-18T08:28:38.111249Z",
     "start_time": "2020-08-18T08:28:38.107551Z"
    }
   },
   "outputs": [],
   "source": [
    "import pandas as pd\n",
    "import requests\n",
    "from bs4 import BeautifulSoup"
   ]
  },
  {
   "cell_type": "markdown",
   "metadata": {},
   "source": [
    "## Create functions\n",
    "First, we create a function to get text from each websites and second we create another function to convert the list to dataframe"
   ]
  },
  {
   "cell_type": "code",
   "execution_count": 50,
   "metadata": {
    "ExecuteTime": {
     "end_time": "2020-08-18T08:28:38.132859Z",
     "start_time": "2020-08-18T08:28:38.113660Z"
    }
   },
   "outputs": [],
   "source": [
    "def obtener(url):\n",
    "    req = requests.get(url)\n",
    "    soup = BeautifulSoup(req.content, 'html.parser')\n",
    "    lista=[]\n",
    "    resulta = soup.find_all('li', {'class': 'puce_texte'})\n",
    "    for item in resulta:\n",
    "        text = item.text\n",
    "        text=str(text).replace(\"Ã³\",\"o\")\n",
    "        text=str(text).replace(\"Ã­\",\"i\")\n",
    "        text=str(text).replace(\"Ã±\",\"n\")\n",
    "        text=str(text).replace(\"í\",\"i\")\n",
    "        text=str(text).replace(\"Â°\",\"°\")\n",
    "        text=str(text).replace(\"Ã©\",\"e\")\n",
    "        text=str(text).replace(\"Ãº\",\"u\")\n",
    "        text=str(text).replace(\"Ã¡\",\"a\")\n",
    "        text=str(text).replace(\"Ä\",\"\")\n",
    "        text=str(text).replace(\"\\' \",\"' \")\n",
    "        text=str(text).replace(\"<br/>\",\"\")\n",
    "        text=str(text).replace(\"\\n\",\"\")\n",
    "        text=str(text).replace(\"Operativo\",\"Operativo : si\")\n",
    "        text=str(text).replace(\"Parque eolico onshore\",\"Parque eolico onshore : si\")\n",
    "        text=str(text).replace(\"Imágenes de Google Maps\",\"Imágenes de Google Maps : si\")\n",
    "        lista.append(text)\n",
    "    return lista\n",
    "def dataframe(lista):\n",
    "    datos= [i.split(': ', 1)[-1] for i in lista]\n",
    "    columna= [i.split(' :', 1)[0] for i in lista]\n",
    "    columnas =[career.lstrip('0123456789) ') for career in columna]\n",
    "    df = pd.DataFrame(datos).transpose()\n",
    "    df.columns=columnas\n",
    "    df = df.loc[:,~df.columns.duplicated()]\n",
    "    #df=df[['Nombre del parque eolico', 'Ciudad', 'Latitud','Longitud','Potencia nominal total' ]]\n",
    "    return df"
   ]
  },
  {
   "cell_type": "markdown",
   "metadata": {},
   "source": [
    "Let's see the result of the first 10 lines\n"
   ]
  },
  {
   "cell_type": "code",
   "execution_count": 51,
   "metadata": {
    "ExecuteTime": {
     "end_time": "2020-08-18T08:28:38.139695Z",
     "start_time": "2020-08-18T08:28:38.134946Z"
    }
   },
   "outputs": [
    {
     "data": {
      "text/plain": [
       "['https://www.thewindpower.net/windfarm_es_4418_cortijo-de-guerra-ii.php',\n",
       " 'https://www.thewindpower.net/windfarm_es_695_es-mila.php',\n",
       " 'https://www.thewindpower.net/windfarm_es_5281_la-castellana-(spain).php',\n",
       " 'https://www.thewindpower.net/windfarm_es_7024_valdeperondo.php',\n",
       " 'https://www.thewindpower.net/windfarm_es_1922_a-capelada-i.php',\n",
       " 'https://www.thewindpower.net/windfarm_es_1919_a-capelada-ii.php',\n",
       " 'https://www.thewindpower.net/windfarm_es_10582_abuela-santa-ana.php',\n",
       " 'https://www.thewindpower.net/windfarm_es_19392_abuela-santa-ana-modificacion.php',\n",
       " 'https://www.thewindpower.net/windfarm_es_1920_adrano.php',\n",
       " 'https://www.thewindpower.net/windfarm_es_13465_aeropuerto-la-palma.php']"
      ]
     },
     "execution_count": 51,
     "metadata": {},
     "output_type": "execute_result"
    }
   ],
   "source": [
    "result_first = result[:10]\n",
    "result_first"
   ]
  },
  {
   "cell_type": "markdown",
   "metadata": {},
   "source": [
    "## Get data in a Dataframe\n",
    "Finally, using the list of URLs obtained with the selenium library, we generate our dataset with all the data obtained"
   ]
  },
  {
   "cell_type": "code",
   "execution_count": 52,
   "metadata": {
    "ExecuteTime": {
     "end_time": "2020-08-18T08:30:47.591131Z",
     "start_time": "2020-08-18T08:28:38.141715Z"
    }
   },
   "outputs": [],
   "source": [
    "DATA=pd.DataFrame()\n",
    "for i in result:\n",
    "    lista=obtener(i)\n",
    "    DF=dataframe(lista)\n",
    "    DATA=DATA.append(DF,ignore_index=True)  \n",
    "    "
   ]
  },
  {
   "cell_type": "markdown",
   "metadata": {},
   "source": [
    "This is the result"
   ]
  },
  {
   "cell_type": "code",
   "execution_count": 53,
   "metadata": {
    "ExecuteTime": {
     "end_time": "2020-08-18T08:30:47.623105Z",
     "start_time": "2020-08-18T08:30:47.594263Z"
    }
   },
   "outputs": [
    {
     "data": {
      "text/html": [
       "<div>\n",
       "<style scoped>\n",
       "    .dataframe tbody tr th:only-of-type {\n",
       "        vertical-align: middle;\n",
       "    }\n",
       "\n",
       "    .dataframe tbody tr th {\n",
       "        vertical-align: top;\n",
       "    }\n",
       "\n",
       "    .dataframe thead th {\n",
       "        text-align: right;\n",
       "    }\n",
       "</style>\n",
       "<table border=\"1\" class=\"dataframe\">\n",
       "  <thead>\n",
       "    <tr style=\"text-align: right;\">\n",
       "      <th></th>\n",
       "      <th>Nombre del parque eolico</th>\n",
       "      <th>Pais</th>\n",
       "      <th>Departamento / Zona</th>\n",
       "      <th>Ciudad</th>\n",
       "      <th>turbinas eolicas</th>\n",
       "      <th>Altura de las gondolas</th>\n",
       "      <th>Potencia nominal total</th>\n",
       "      <th>Operativo</th>\n",
       "      <th>Parque eolico onshore</th>\n",
       "      <th>Desarrolladores</th>\n",
       "      <th>...</th>\n",
       "      <th>Otro nombre</th>\n",
       "      <th>Propietarios</th>\n",
       "      <th>Altitud</th>\n",
       "      <th>turbina eolica</th>\n",
       "      <th>En construccion</th>\n",
       "      <th>Deshabilitar</th>\n",
       "      <th>Operadores</th>\n",
       "      <th>Sitio web</th>\n",
       "      <th>direccion de correo electronico a fin de inscribirle al boletin de noticias, estrictamente destinada al envio de los boletines de noticias y por un periodo de tiempo limitado a la duracion de la inscripcion a dichos boletines de noticias.</th>\n",
       "      <th>direccion de correo electronico y nombre de la empresa cuando se soliciten presupuestos o se adquieran productos, unicamente destinados a realizar el seguimiento de los clientes y durante un periodo de tiempo conforme a las obligaciones contables.</th>\n",
       "    </tr>\n",
       "  </thead>\n",
       "  <tbody>\n",
       "    <tr>\n",
       "      <th>0</th>\n",
       "      <td>Cortijo de Guerra II</td>\n",
       "      <td>Espana</td>\n",
       "      <td>Cadiz (Andalucia)</td>\n",
       "      <td>Puerto Real</td>\n",
       "      <td>Enercon E70/2000 (potencia 2 000 kW, diametro ...</td>\n",
       "      <td>80 m</td>\n",
       "      <td>34 000 kW</td>\n",
       "      <td>si</td>\n",
       "      <td>si</td>\n",
       "      <td>Grupo Enhol/ImWind</td>\n",
       "      <td>...</td>\n",
       "      <td>NaN</td>\n",
       "      <td>NaN</td>\n",
       "      <td>NaN</td>\n",
       "      <td>NaN</td>\n",
       "      <td>NaN</td>\n",
       "      <td>NaN</td>\n",
       "      <td>NaN</td>\n",
       "      <td>NaN</td>\n",
       "      <td>NaN</td>\n",
       "      <td>NaN</td>\n",
       "    </tr>\n",
       "    <tr>\n",
       "      <th>1</th>\n",
       "      <td>Es Mila</td>\n",
       "      <td>Espana</td>\n",
       "      <td>Baleares</td>\n",
       "      <td>MenorcaÂ</td>\n",
       "      <td>Made AE-59 (potencia 800 kW, diametro 59 m)</td>\n",
       "      <td>NaN</td>\n",
       "      <td>3 200 kW</td>\n",
       "      <td>si</td>\n",
       "      <td>si</td>\n",
       "      <td>NaN</td>\n",
       "      <td>...</td>\n",
       "      <td>NaN</td>\n",
       "      <td>NaN</td>\n",
       "      <td>NaN</td>\n",
       "      <td>NaN</td>\n",
       "      <td>NaN</td>\n",
       "      <td>NaN</td>\n",
       "      <td>NaN</td>\n",
       "      <td>NaN</td>\n",
       "      <td>NaN</td>\n",
       "      <td>NaN</td>\n",
       "    </tr>\n",
       "    <tr>\n",
       "      <th>2</th>\n",
       "      <td>La Castellana (Spain)</td>\n",
       "      <td>Espana</td>\n",
       "      <td>Cadiz (Andalucia)</td>\n",
       "      <td>Puerto Real</td>\n",
       "      <td>Enercon E82/2000 (potencia 2 000 kW, diametro ...</td>\n",
       "      <td>78 m</td>\n",
       "      <td>34 000 kW</td>\n",
       "      <td>si</td>\n",
       "      <td>si</td>\n",
       "      <td>NaN</td>\n",
       "      <td>...</td>\n",
       "      <td>NaN</td>\n",
       "      <td>NaN</td>\n",
       "      <td>NaN</td>\n",
       "      <td>NaN</td>\n",
       "      <td>NaN</td>\n",
       "      <td>NaN</td>\n",
       "      <td>NaN</td>\n",
       "      <td>NaN</td>\n",
       "      <td>NaN</td>\n",
       "      <td>NaN</td>\n",
       "    </tr>\n",
       "    <tr>\n",
       "      <th>3</th>\n",
       "      <td>Valdeperondo</td>\n",
       "      <td>Espana</td>\n",
       "      <td>Leon (Castilla y Leon)</td>\n",
       "      <td>Cea, SahagunÂ</td>\n",
       "      <td>Gamesa G90/2000 (potencia 2 000 kW, diametro 9...</td>\n",
       "      <td>NaN</td>\n",
       "      <td>46 000 kW</td>\n",
       "      <td>si</td>\n",
       "      <td>si</td>\n",
       "      <td>NaN</td>\n",
       "      <td>...</td>\n",
       "      <td>NaN</td>\n",
       "      <td>NaN</td>\n",
       "      <td>NaN</td>\n",
       "      <td>NaN</td>\n",
       "      <td>NaN</td>\n",
       "      <td>NaN</td>\n",
       "      <td>NaN</td>\n",
       "      <td>NaN</td>\n",
       "      <td>NaN</td>\n",
       "      <td>NaN</td>\n",
       "    </tr>\n",
       "    <tr>\n",
       "      <th>4</th>\n",
       "      <td>A Capelada I</td>\n",
       "      <td>Espana</td>\n",
       "      <td>La Coruna (Galicia)</td>\n",
       "      <td>Carino, Cedeira, Ortigueira</td>\n",
       "      <td>Made AE-30 (potencia 330 kW, diametro 30 m)</td>\n",
       "      <td>NaN</td>\n",
       "      <td>16 500 kW</td>\n",
       "      <td>si</td>\n",
       "      <td>si</td>\n",
       "      <td>NaN</td>\n",
       "      <td>...</td>\n",
       "      <td>NaN</td>\n",
       "      <td>NaN</td>\n",
       "      <td>NaN</td>\n",
       "      <td>NaN</td>\n",
       "      <td>NaN</td>\n",
       "      <td>NaN</td>\n",
       "      <td>NaN</td>\n",
       "      <td>NaN</td>\n",
       "      <td>NaN</td>\n",
       "      <td>NaN</td>\n",
       "    </tr>\n",
       "    <tr>\n",
       "      <th>...</th>\n",
       "      <td>...</td>\n",
       "      <td>...</td>\n",
       "      <td>...</td>\n",
       "      <td>...</td>\n",
       "      <td>...</td>\n",
       "      <td>...</td>\n",
       "      <td>...</td>\n",
       "      <td>...</td>\n",
       "      <td>...</td>\n",
       "      <td>...</td>\n",
       "      <td>...</td>\n",
       "      <td>...</td>\n",
       "      <td>...</td>\n",
       "      <td>...</td>\n",
       "      <td>...</td>\n",
       "      <td>...</td>\n",
       "      <td>...</td>\n",
       "      <td>...</td>\n",
       "      <td>...</td>\n",
       "      <td>...</td>\n",
       "      <td>...</td>\n",
       "    </tr>\n",
       "    <tr>\n",
       "      <th>597</th>\n",
       "      <td>Yerga II</td>\n",
       "      <td>Espana</td>\n",
       "      <td>Logrono (La Rioja)</td>\n",
       "      <td>Alfaro, Autol</td>\n",
       "      <td>Gamesa G52/850 (potencia 850 kW, diametro 52 m)</td>\n",
       "      <td>55 m</td>\n",
       "      <td>11 900 kW</td>\n",
       "      <td>si</td>\n",
       "      <td>si</td>\n",
       "      <td>NaN</td>\n",
       "      <td>...</td>\n",
       "      <td>NaN</td>\n",
       "      <td>NaN</td>\n",
       "      <td>NaN</td>\n",
       "      <td>NaN</td>\n",
       "      <td>NaN</td>\n",
       "      <td>NaN</td>\n",
       "      <td>NaN</td>\n",
       "      <td>NaN</td>\n",
       "      <td>NaN</td>\n",
       "      <td>NaN</td>\n",
       "    </tr>\n",
       "    <tr>\n",
       "      <th>598</th>\n",
       "      <td>Zas</td>\n",
       "      <td>Espana</td>\n",
       "      <td>La Coruna (Galicia)</td>\n",
       "      <td>Zas, Santa Comba</td>\n",
       "      <td>DESA A300 (potencia 300 kW, diametro 30 m)</td>\n",
       "      <td>93 m</td>\n",
       "      <td>24 000 kW</td>\n",
       "      <td>si</td>\n",
       "      <td>si</td>\n",
       "      <td>NaN</td>\n",
       "      <td>...</td>\n",
       "      <td>NaN</td>\n",
       "      <td>NaN</td>\n",
       "      <td>NaN</td>\n",
       "      <td>NaN</td>\n",
       "      <td>NaN</td>\n",
       "      <td>Deshabilitar</td>\n",
       "      <td>NaN</td>\n",
       "      <td>NaN</td>\n",
       "      <td>NaN</td>\n",
       "      <td>NaN</td>\n",
       "    </tr>\n",
       "    <tr>\n",
       "      <th>599</th>\n",
       "      <td>Zas</td>\n",
       "      <td>Espana</td>\n",
       "      <td>La Coruna (Galicia)</td>\n",
       "      <td>Zas, Santa Comba</td>\n",
       "      <td>DESA A300 (potencia 300 kW, diametro 30 m)</td>\n",
       "      <td>93 m</td>\n",
       "      <td>24 000 kW</td>\n",
       "      <td>si</td>\n",
       "      <td>si</td>\n",
       "      <td>NaN</td>\n",
       "      <td>...</td>\n",
       "      <td>NaN</td>\n",
       "      <td>NaN</td>\n",
       "      <td>NaN</td>\n",
       "      <td>NaN</td>\n",
       "      <td>NaN</td>\n",
       "      <td>Deshabilitar</td>\n",
       "      <td>NaN</td>\n",
       "      <td>NaN</td>\n",
       "      <td>NaN</td>\n",
       "      <td>NaN</td>\n",
       "    </tr>\n",
       "    <tr>\n",
       "      <th>600</th>\n",
       "      <td>Zorreras</td>\n",
       "      <td>Espana</td>\n",
       "      <td>Cadiz (Andalucia)</td>\n",
       "      <td>Tarifa</td>\n",
       "      <td>Enercon E70/2000 (potencia 2 000 kW, diametro ...</td>\n",
       "      <td>NaN</td>\n",
       "      <td>20 000 kW</td>\n",
       "      <td>si</td>\n",
       "      <td>si</td>\n",
       "      <td>NaN</td>\n",
       "      <td>...</td>\n",
       "      <td>NaN</td>\n",
       "      <td>NaN</td>\n",
       "      <td>NaN</td>\n",
       "      <td>NaN</td>\n",
       "      <td>NaN</td>\n",
       "      <td>NaN</td>\n",
       "      <td>NaN</td>\n",
       "      <td>NaN</td>\n",
       "      <td>NaN</td>\n",
       "      <td>NaN</td>\n",
       "    </tr>\n",
       "    <tr>\n",
       "      <th>601</th>\n",
       "      <td>NaN</td>\n",
       "      <td>NaN</td>\n",
       "      <td>NaN</td>\n",
       "      <td>NaN</td>\n",
       "      <td>NaN</td>\n",
       "      <td>NaN</td>\n",
       "      <td>NaN</td>\n",
       "      <td>NaN</td>\n",
       "      <td>NaN</td>\n",
       "      <td>NaN</td>\n",
       "      <td>...</td>\n",
       "      <td>NaN</td>\n",
       "      <td>NaN</td>\n",
       "      <td>NaN</td>\n",
       "      <td>NaN</td>\n",
       "      <td>NaN</td>\n",
       "      <td>NaN</td>\n",
       "      <td>NaN</td>\n",
       "      <td>NaN</td>\n",
       "      <td>direccion de correo electronico a fin de inscr...</td>\n",
       "      <td>direccion de correo electronico y nombre de la...</td>\n",
       "    </tr>\n",
       "  </tbody>\n",
       "</table>\n",
       "<p>602 rows × 31 columns</p>\n",
       "</div>"
      ],
      "text/plain": [
       "    Nombre del parque eolico    Pais     Departamento / Zona  \\\n",
       "0       Cortijo de Guerra II  Espana       Cadiz (Andalucia)   \n",
       "1                    Es Mila  Espana                Baleares   \n",
       "2      La Castellana (Spain)  Espana       Cadiz (Andalucia)   \n",
       "3               Valdeperondo  Espana  Leon (Castilla y Leon)   \n",
       "4               A Capelada I  Espana     La Coruna (Galicia)   \n",
       "..                       ...     ...                     ...   \n",
       "597                 Yerga II  Espana      Logrono (La Rioja)   \n",
       "598                      Zas  Espana     La Coruna (Galicia)   \n",
       "599                      Zas  Espana     La Coruna (Galicia)   \n",
       "600                 Zorreras  Espana       Cadiz (Andalucia)   \n",
       "601                      NaN     NaN                     NaN   \n",
       "\n",
       "                          Ciudad  \\\n",
       "0                    Puerto Real   \n",
       "1                      MenorcaÂ    \n",
       "2                    Puerto Real   \n",
       "3                 Cea, SahagunÂ    \n",
       "4    Carino, Cedeira, Ortigueira   \n",
       "..                           ...   \n",
       "597                Alfaro, Autol   \n",
       "598             Zas, Santa Comba   \n",
       "599             Zas, Santa Comba   \n",
       "600                       Tarifa   \n",
       "601                          NaN   \n",
       "\n",
       "                                      turbinas eolicas Altura de las gondolas  \\\n",
       "0    Enercon E70/2000 (potencia 2 000 kW, diametro ...                   80 m   \n",
       "1          Made AE-59 (potencia 800 kW, diametro 59 m)                    NaN   \n",
       "2    Enercon E82/2000 (potencia 2 000 kW, diametro ...                   78 m   \n",
       "3    Gamesa G90/2000 (potencia 2 000 kW, diametro 9...                    NaN   \n",
       "4          Made AE-30 (potencia 330 kW, diametro 30 m)                    NaN   \n",
       "..                                                 ...                    ...   \n",
       "597    Gamesa G52/850 (potencia 850 kW, diametro 52 m)                   55 m   \n",
       "598         DESA A300 (potencia 300 kW, diametro 30 m)                   93 m   \n",
       "599         DESA A300 (potencia 300 kW, diametro 30 m)                   93 m   \n",
       "600  Enercon E70/2000 (potencia 2 000 kW, diametro ...                    NaN   \n",
       "601                                                NaN                    NaN   \n",
       "\n",
       "    Potencia nominal total Operativo Parque eolico onshore  \\\n",
       "0                34 000 kW        si                    si   \n",
       "1                 3 200 kW        si                    si   \n",
       "2                34 000 kW        si                    si   \n",
       "3                46 000 kW        si                    si   \n",
       "4                16 500 kW        si                    si   \n",
       "..                     ...       ...                   ...   \n",
       "597              11 900 kW        si                    si   \n",
       "598              24 000 kW        si                    si   \n",
       "599              24 000 kW        si                    si   \n",
       "600              20 000 kW        si                    si   \n",
       "601                    NaN       NaN                   NaN   \n",
       "\n",
       "        Desarrolladores  ... Otro nombre Propietarios Altitud turbina eolica  \\\n",
       "0    Grupo Enhol/ImWind  ...         NaN          NaN     NaN            NaN   \n",
       "1                   NaN  ...         NaN          NaN     NaN            NaN   \n",
       "2                   NaN  ...         NaN          NaN     NaN            NaN   \n",
       "3                   NaN  ...         NaN          NaN     NaN            NaN   \n",
       "4                   NaN  ...         NaN          NaN     NaN            NaN   \n",
       "..                  ...  ...         ...          ...     ...            ...   \n",
       "597                 NaN  ...         NaN          NaN     NaN            NaN   \n",
       "598                 NaN  ...         NaN          NaN     NaN            NaN   \n",
       "599                 NaN  ...         NaN          NaN     NaN            NaN   \n",
       "600                 NaN  ...         NaN          NaN     NaN            NaN   \n",
       "601                 NaN  ...         NaN          NaN     NaN            NaN   \n",
       "\n",
       "    En construccion  Deshabilitar Operadores Sitio web  \\\n",
       "0               NaN           NaN        NaN       NaN   \n",
       "1               NaN           NaN        NaN       NaN   \n",
       "2               NaN           NaN        NaN       NaN   \n",
       "3               NaN           NaN        NaN       NaN   \n",
       "4               NaN           NaN        NaN       NaN   \n",
       "..              ...           ...        ...       ...   \n",
       "597             NaN           NaN        NaN       NaN   \n",
       "598             NaN  Deshabilitar        NaN       NaN   \n",
       "599             NaN  Deshabilitar        NaN       NaN   \n",
       "600             NaN           NaN        NaN       NaN   \n",
       "601             NaN           NaN        NaN       NaN   \n",
       "\n",
       "    direccion de correo electronico a fin de inscribirle al boletin de noticias, estrictamente destinada al envio de los boletines de noticias y por un periodo de tiempo limitado a la duracion de la inscripcion a dichos boletines de noticias.  \\\n",
       "0                                                  NaN                                                                                                                                                                                               \n",
       "1                                                  NaN                                                                                                                                                                                               \n",
       "2                                                  NaN                                                                                                                                                                                               \n",
       "3                                                  NaN                                                                                                                                                                                               \n",
       "4                                                  NaN                                                                                                                                                                                               \n",
       "..                                                 ...                                                                                                                                                                                               \n",
       "597                                                NaN                                                                                                                                                                                               \n",
       "598                                                NaN                                                                                                                                                                                               \n",
       "599                                                NaN                                                                                                                                                                                               \n",
       "600                                                NaN                                                                                                                                                                                               \n",
       "601  direccion de correo electronico a fin de inscr...                                                                                                                                                                                               \n",
       "\n",
       "    direccion de correo electronico y nombre de la empresa cuando se soliciten presupuestos o se adquieran productos, unicamente destinados a realizar el seguimiento de los clientes y durante un periodo de tiempo conforme a las obligaciones contables.  \n",
       "0                                                  NaN                                                                                                                                                                                                       \n",
       "1                                                  NaN                                                                                                                                                                                                       \n",
       "2                                                  NaN                                                                                                                                                                                                       \n",
       "3                                                  NaN                                                                                                                                                                                                       \n",
       "4                                                  NaN                                                                                                                                                                                                       \n",
       "..                                                 ...                                                                                                                                                                                                       \n",
       "597                                                NaN                                                                                                                                                                                                       \n",
       "598                                                NaN                                                                                                                                                                                                       \n",
       "599                                                NaN                                                                                                                                                                                                       \n",
       "600                                                NaN                                                                                                                                                                                                       \n",
       "601  direccion de correo electronico y nombre de la...                                                                                                                                                                                                       \n",
       "\n",
       "[602 rows x 31 columns]"
      ]
     },
     "execution_count": 53,
     "metadata": {},
     "output_type": "execute_result"
    }
   ],
   "source": [
    "DATA"
   ]
  },
  {
   "cell_type": "markdown",
   "metadata": {},
   "source": [
    "## Save data\n",
    "And finally we save the data"
   ]
  },
  {
   "cell_type": "code",
   "execution_count": 54,
   "metadata": {
    "ExecuteTime": {
     "end_time": "2020-08-18T08:30:47.640422Z",
     "start_time": "2020-08-18T08:30:47.625267Z"
    }
   },
   "outputs": [],
   "source": [
    "DATA.to_csv(r'datos_eolicos.csv')"
   ]
  },
  {
   "cell_type": "markdown",
   "metadata": {},
   "source": [
    "## Conclusion\n",
    "As you can see with a couple of libraries we have been able to obtain the url and data of the wind farms located in Spain\n",
    "\n",
    "I hope you enjoy this project"
   ]
  },
  {
   "cell_type": "markdown",
   "metadata": {
    "ExecuteTime": {
     "end_time": "2020-08-16T08:28:52.230150Z",
     "start_time": "2020-08-16T08:27:40.447Z"
    }
   },
   "source": [
    "\n",
    "\n",
    "No matter what books or blogs or courses or videos one learns from, when it comes to implementation everything might look like “Out of Syllabus”\n",
    "\n",
    "    Best way to learn is by doing!\n",
    "    Best way to learn is by teaching what you have learned!\n",
    "\n",
    "### Never give up!\n",
    "\n",
    "See you in Linkedin!\n"
   ]
  },
  {
   "cell_type": "markdown",
   "metadata": {},
   "source": [
    "https://www.linkedin.com/in/oscar-rojo-martin/"
   ]
  }
 ],
 "metadata": {
  "kernelspec": {
   "display_name": "Python 3 (ipykernel)",
   "language": "python",
   "name": "python3"
  },
  "language_info": {
   "codemirror_mode": {
    "name": "ipython",
    "version": 3
   },
   "file_extension": ".py",
   "mimetype": "text/x-python",
   "name": "python",
   "nbconvert_exporter": "python",
   "pygments_lexer": "ipython3",
   "version": "3.7.6"
  },
  "toc": {
   "base_numbering": 1,
   "nav_menu": {},
   "number_sections": true,
   "sideBar": true,
   "skip_h1_title": false,
   "title_cell": "Table of Contents",
   "title_sidebar": "Contents",
   "toc_cell": false,
   "toc_position": {},
   "toc_section_display": true,
   "toc_window_display": false
  }
 },
 "nbformat": 4,
 "nbformat_minor": 4
}
